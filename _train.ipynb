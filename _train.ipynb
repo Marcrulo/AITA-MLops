{
 "cells": [
  {
   "cell_type": "code",
   "execution_count": 1,
   "metadata": {},
   "outputs": [
    {
     "name": "stderr",
     "output_type": "stream",
     "text": [
      "/home/mp/anaconda3/envs/mlops/lib/python3.10/site-packages/tqdm/auto.py:21: TqdmWarning: IProgress not found. Please update jupyter and ipywidgets. See https://ipywidgets.readthedocs.io/en/stable/user_install.html\n",
      "  from .autonotebook import tqdm as notebook_tqdm\n",
      "2024-03-17 17:59:44.212032: E tensorflow/compiler/xla/stream_executor/cuda/cuda_dnn.cc:9342] Unable to register cuDNN factory: Attempting to register factory for plugin cuDNN when one has already been registered\n",
      "2024-03-17 17:59:44.212063: E tensorflow/compiler/xla/stream_executor/cuda/cuda_fft.cc:609] Unable to register cuFFT factory: Attempting to register factory for plugin cuFFT when one has already been registered\n",
      "2024-03-17 17:59:44.212091: E tensorflow/compiler/xla/stream_executor/cuda/cuda_blas.cc:1518] Unable to register cuBLAS factory: Attempting to register factory for plugin cuBLAS when one has already been registered\n",
      "2024-03-17 17:59:44.218393: I tensorflow/core/platform/cpu_feature_guard.cc:182] This TensorFlow binary is optimized to use available CPU instructions in performance-critical operations.\n",
      "To enable the following instructions: AVX2 FMA, in other operations, rebuild TensorFlow with the appropriate compiler flags.\n",
      "2024-03-17 17:59:44.957865: W tensorflow/compiler/tf2tensorrt/utils/py_utils.cc:38] TF-TRT Warning: Could not find TensorRT\n"
     ]
    }
   ],
   "source": [
    "import transformers\n",
    "from datasets import Dataset\n",
    "import evaluate\n",
    "\n",
    "import pandas as pd\n",
    "import torch\n",
    "import logging\n",
    "import glob\n",
    "import os\n",
    "\n",
    "from sklearn.metrics import accuracy_score, precision_recall_fscore_support"
   ]
  },
  {
   "cell_type": "code",
   "execution_count": 2,
   "metadata": {},
   "outputs": [],
   "source": [
    "df = pd.read_csv('data/processed/AITA-Reddit-Dataset.csv')"
   ]
  },
  {
   "cell_type": "code",
   "execution_count": 3,
   "metadata": {},
   "outputs": [],
   "source": [
    "# get last created file\n",
    "checkpoint = glob.glob(os.path.join('models/results','*'))\n",
    "checkpoint.sort(key=os.path.getmtime)\n",
    "chkpt = checkpoint[-1]\n",
    "\n",
    "# chkpt = None"
   ]
  },
  {
   "cell_type": "code",
   "execution_count": 4,
   "metadata": {},
   "outputs": [],
   "source": [
    "model_name = 'bert-base-uncased'\n",
    "\n",
    "if chkpt is not None:\n",
    "    model = transformers.BertForSequenceClassification.from_pretrained(chkpt, num_labels=4, problem_type='multi_label_classification').to('cuda')\n",
    "else:\n",
    "    model = transformers.BertForSequenceClassification.from_pretrained(model_name, num_labels=4, problem_type='multi_label_classification').to('cuda')\n",
    "\n",
    "tokenizer = transformers.BertTokenizer.from_pretrained(model_name, problem_type='multi_label_classification')"
   ]
  },
  {
   "cell_type": "code",
   "execution_count": 5,
   "metadata": {},
   "outputs": [],
   "source": [
    "classifier = transformers.pipeline('sentiment-analysis', model=model, tokenizer=tokenizer, device='cpu')"
   ]
  },
  {
   "cell_type": "code",
   "execution_count": 6,
   "metadata": {},
   "outputs": [
    {
     "name": "stderr",
     "output_type": "stream",
     "text": [
      "/home/mp/anaconda3/envs/mlops/lib/python3.10/site-packages/pyarrow/pandas_compat.py:373: FutureWarning: is_sparse is deprecated and will be removed in a future version. Check `isinstance(dtype, pd.SparseDtype)` instead.\n",
      "  if _pandas_api.is_sparse(col):\n",
      "                                                                      \r"
     ]
    }
   ],
   "source": [
    "# Create Dataset\n",
    "base_dataset = Dataset.from_pandas(df)\n",
    "\n",
    "# Vectorize labels\n",
    "cols = base_dataset.column_names\n",
    "base_dataset = base_dataset.map(lambda x: {'labels': [x[c] for c in cols if c != \"text\"]})"
   ]
  },
  {
   "cell_type": "code",
   "execution_count": 7,
   "metadata": {},
   "outputs": [
    {
     "name": "stderr",
     "output_type": "stream",
     "text": [
      "                                                                \r"
     ]
    }
   ],
   "source": [
    "# Tokenize the data\n",
    "def tokenize_function(examples):\n",
    "    return tokenizer(examples[\"text\"], padding=\"max_length\", truncation=True)\n",
    "\n",
    "# Tokenize the data (only keep relevant columns)\n",
    "cols = base_dataset.column_names\n",
    "cols.remove('labels')\n",
    "dataset = base_dataset.select(range(1000)).map(tokenize_function, batched=True, remove_columns=cols)"
   ]
  },
  {
   "cell_type": "code",
   "execution_count": 8,
   "metadata": {},
   "outputs": [],
   "source": [
    "# Create a dataset class with LABEL and TEXT columns\n",
    "dataset = dataset.train_test_split(test_size=0.2)\n",
    "validation_test_dataset = dataset['test'].train_test_split(test_size=0.5)\n",
    "dataset['validation'] = validation_test_dataset['train']\n",
    "dataset['test'] = validation_test_dataset['test']\n"
   ]
  },
  {
   "cell_type": "code",
   "execution_count": 9,
   "metadata": {},
   "outputs": [],
   "source": [
    "# Model evaluation\n",
    "f1 = evaluate.load('f1')\n",
    "\n",
    "# logging.basicConfig(level=logging.INFO, filename='example.log')\n",
    "\n",
    "def compute_metrics(eval_pred):\n",
    "    predictions, labels = eval_pred\n",
    "    predictions = np.argmax(predictions, axis=1)\n",
    "    return f1.compute(predictions=predictions, references=labels)"
   ]
  },
  {
   "cell_type": "code",
   "execution_count": null,
   "metadata": {},
   "outputs": [],
   "source": [
    "# finetune the model\n",
    "training_args = transformers.TrainingArguments(\n",
    "    output_dir='./models/results',          # output directory\n",
    "    num_train_epochs=20,              # total number of training epochs\n",
    "    per_device_train_batch_size=1,   # batch size per device during training\n",
    "    per_device_eval_batch_size=1,    # batch size for evaluation\n",
    "    warmup_steps=500,                # number of warmup steps for learning rate scheduler\n",
    "    weight_decay=0.01,               # strength of weight decay\n",
    "    logging_dir='./logs',            # directory for storing logs\n",
    "    logging_steps=100,\n",
    "    evaluation_strategy='steps',\n",
    "    eval_steps=500,\n",
    "    save_steps=500,\n",
    ")\n",
    "trainer = transformers.Trainer(\n",
    "    model=model,\n",
    "    args=training_args,\n",
    "    train_dataset=dataset['train'],\n",
    "    eval_dataset=dataset['validation'],\n",
    ")\n",
    "if chkpt is not None:\n",
    "    trainer.train(chkpt)\n",
    "else:\n",
    "    trainer.train()\n",
    "    "
   ]
  },
  {
   "cell_type": "code",
   "execution_count": 15,
   "metadata": {},
   "outputs": [
    {
     "name": "stderr",
     "output_type": "stream",
     "text": [
      "\n",
      "\u001b[A\n",
      "\u001b[A\n",
      "\u001b[A\n",
      "\u001b[A\n",
      "\u001b[A\n",
      "\u001b[A\n",
      "\u001b[A\n",
      "\u001b[A\n",
      "\u001b[A\n",
      "\u001b[A\n",
      "\u001b[A\n",
      "\u001b[A\n",
      "\u001b[A\n",
      "\u001b[A\n",
      "\u001b[A\n",
      "\u001b[A\n",
      "\u001b[A\n",
      "\u001b[A\n",
      "\u001b[A\n",
      "\u001b[A\n",
      "\u001b[A"
     ]
    }
   ],
   "source": [
    "predictions = trainer.predict(dataset['test'])"
   ]
  },
  {
   "cell_type": "code",
   "execution_count": 16,
   "metadata": {},
   "outputs": [
    {
     "data": {
      "text/plain": [
       "array([[-10.165635 , -10.305018 ,   3.7571561,  -3.7540808],\n",
       "       [-10.165506 , -10.304854 ,   3.7571688,  -3.7540278],\n",
       "       [-10.164119 , -10.302999 ,   3.7574627,  -3.7536483],\n",
       "       [-10.112638 , -10.257194 ,   3.7338185,  -3.7101927],\n",
       "       [-10.165469 , -10.304749 ,   3.757206 ,  -3.7540965],\n",
       "       [-10.165273 , -10.304448 ,   3.757265 ,  -3.7540126],\n",
       "       [-10.165549 , -10.304887 ,   3.7571964,  -3.7540276],\n",
       "       [-10.164414 , -10.303262 ,   3.7574744,  -3.7539556],\n",
       "       [-10.165588 , -10.304883 ,   3.7572155,  -3.7541714],\n",
       "       [-10.165154 , -10.304268 ,   3.75731  ,  -3.7540822],\n",
       "       [-10.165353 , -10.304537 ,   3.757258 ,  -3.7541692],\n",
       "       [-10.165474 , -10.304761 ,   3.7572117,  -3.7541194],\n",
       "       [-10.165446 , -10.304763 ,   3.7572083,  -3.7540197],\n",
       "       [-10.165656 , -10.305006 ,   3.7571692,  -3.7540948],\n",
       "       [-10.165108 , -10.304249 ,   3.757269 ,  -3.7539046],\n",
       "       [-10.165623 , -10.30498  ,   3.7571993,  -3.7541835],\n",
       "       [-10.165496 , -10.304761 ,   3.757217 ,  -3.7540946],\n",
       "       [-10.165353 , -10.304572 ,   3.7572362,  -3.7539775],\n",
       "       [-10.165534 , -10.304827 ,   3.757227 ,  -3.7542288],\n",
       "       [-10.165359 , -10.304607 ,   3.757244 ,  -3.7539983],\n",
       "       [-10.165185 , -10.304474 ,   3.757238 ,  -3.75391  ],\n",
       "       [-10.165507 , -10.304904 ,   3.757165 ,  -3.7539556],\n",
       "       [-10.165408 , -10.304678 ,   3.7572217,  -3.7540817],\n",
       "       [-10.164902 , -10.303922 ,   3.7573676,  -3.75399  ],\n",
       "       [-10.165594 , -10.304974 ,   3.7571666,  -3.7540088],\n",
       "       [-10.165638 , -10.30498  ,   3.7571914,  -3.7541628],\n",
       "       [-10.163724 , -10.302534 ,   3.7575223,  -3.753535 ],\n",
       "       [-10.16554  , -10.304858 ,   3.75719  ,  -3.7541313],\n",
       "       [-10.1655855, -10.3048935,   3.7571793,  -3.754064 ],\n",
       "       [-10.165228 , -10.304455 ,   3.7572534,  -3.7539704],\n",
       "       [-10.165371 , -10.304632 ,   3.757212 ,  -3.7539835],\n",
       "       [-10.165496 , -10.3047905,   3.757198 ,  -3.754081 ],\n",
       "       [-10.1652775, -10.30451  ,   3.757238 ,  -3.7540011],\n",
       "       [-10.165271 , -10.3045635,   3.757227 ,  -3.7539897],\n",
       "       [-10.165504 , -10.304811 ,   3.757195 ,  -3.754138 ],\n",
       "       [-10.165627 , -10.30497  ,   3.7571707,  -3.7541099],\n",
       "       [-10.165392 , -10.30458  ,   3.7572553,  -3.7541363],\n",
       "       [-10.165673 , -10.305033 ,   3.7571661,  -3.754099 ],\n",
       "       [-10.165395 , -10.304668 ,   3.7572289,  -3.754002 ],\n",
       "       [-10.164988 , -10.304096 ,   3.757341 ,  -3.7540133],\n",
       "       [-10.16529  , -10.304466 ,   3.7572618,  -3.7540956],\n",
       "       [-10.165626 , -10.304982 ,   3.7571633,  -3.7540402],\n",
       "       [-10.165164 , -10.304429 ,   3.7572355,  -3.7539585],\n",
       "       [-10.165577 , -10.304957 ,   3.7571716,  -3.7540078],\n",
       "       [-10.165305 , -10.304496 ,   3.7572646,  -3.7540698],\n",
       "       [-10.165371 , -10.304601 ,   3.7572439,  -3.7541354],\n",
       "       [-10.165004 , -10.304127 ,   3.7572803,  -3.7539608],\n",
       "       [-10.16514  , -10.304273 ,   3.757297 ,  -3.7540524],\n",
       "       [-10.165684 , -10.305086 ,   3.757142 ,  -3.754023 ],\n",
       "       [-10.16554  , -10.304893 ,   3.7571685,  -3.753951 ],\n",
       "       [-10.165546 , -10.304848 ,   3.7571986,  -3.7540975],\n",
       "       [-10.165589 , -10.304948 ,   3.757194 ,  -3.7540908],\n",
       "       [-10.165362 , -10.304639 ,   3.7572186,  -3.7540517],\n",
       "       [-10.165587 , -10.304914 ,   3.7572138,  -3.7541947],\n",
       "       [-10.165229 , -10.3043785,   3.7572823,  -3.7541165],\n",
       "       [-10.164905 , -10.303851 ,   3.757387 ,  -3.7539918],\n",
       "       [-10.165717 , -10.305118 ,   3.7571352,  -3.7540522],\n",
       "       [-10.164147 , -10.30298  ,   3.7574658,  -3.7537577],\n",
       "       [-10.165502 , -10.304788 ,   3.7572284,  -3.754183 ],\n",
       "       [-10.165428 , -10.304656 ,   3.7572508,  -3.7541828],\n",
       "       [-10.165448 , -10.304717 ,   3.7572215,  -3.754146 ],\n",
       "       [-10.165463 , -10.304771 ,   3.7571974,  -3.754042 ],\n",
       "       [-10.16553  , -10.304895 ,   3.7571795,  -3.753999 ],\n",
       "       [-10.165001 , -10.304188 ,   3.7572794,  -3.7539575],\n",
       "       [-10.164161 , -10.303124 ,   3.7574244,  -3.7535534],\n",
       "       [-10.162888 , -10.301668 ,   3.7578628,  -3.7529345],\n",
       "       [-10.165407 , -10.304728 ,   3.7572267,  -3.7540312],\n",
       "       [-10.165557 , -10.304882 ,   3.7572052,  -3.7541296],\n",
       "       [-10.164468 , -10.303436 ,   3.7573788,  -3.753649 ],\n",
       "       [-10.1655855, -10.3049   ,   3.7571898,  -3.7541237],\n",
       "       [-10.162779 , -10.301282 ,   3.7576797,  -3.753448 ],\n",
       "       [-10.165581 , -10.304935 ,   3.7571924,  -3.7540758],\n",
       "       [-10.164341 , -10.303109 ,   3.7575667,  -3.7538557],\n",
       "       [-10.165525 , -10.30485  ,   3.7571998,  -3.754147 ],\n",
       "       [-10.165571 , -10.304868 ,   3.7572021,  -3.7540808],\n",
       "       [-10.165532 , -10.304846 ,   3.757217 ,  -3.7541852],\n",
       "       [-10.165561 , -10.304918 ,   3.757177 ,  -3.7540708],\n",
       "       [-10.165329 , -10.304572 ,   3.7572439,  -3.754085 ],\n",
       "       [-10.165462 , -10.30477  ,   3.7572157,  -3.7541258],\n",
       "       [-10.165273 , -10.304532 ,   3.7572374,  -3.7539887],\n",
       "       [-10.165539 , -10.304845 ,   3.7571986,  -3.7540903],\n",
       "       [-10.165393 , -10.304713 ,   3.7572076,  -3.7539406],\n",
       "       [-10.165633 , -10.304981 ,   3.757177 ,  -3.75411  ],\n",
       "       [-10.16549  , -10.304821 ,   3.757199 ,  -3.7541256],\n",
       "       [-10.165383 , -10.304661 ,   3.7572172,  -3.7540317],\n",
       "       [-10.165675 , -10.305034 ,   3.7571688,  -3.754125 ],\n",
       "       [-10.165307 , -10.304526 ,   3.7572477,  -3.7540836],\n",
       "       [-10.165202 , -10.304455 ,   3.75723  ,  -3.7540452],\n",
       "       [-10.165416 , -10.304682 ,   3.7572272,  -3.7541256],\n",
       "       [-10.165591 , -10.304943 ,   3.7571862,  -3.754128 ],\n",
       "       [-10.165468 , -10.304746 ,   3.757221 ,  -3.754166 ],\n",
       "       [-10.165349 , -10.3046255,   3.7572389,  -3.7540405],\n",
       "       [-10.165386 , -10.304612 ,   3.7572434,  -3.7541099],\n",
       "       [-10.165559 , -10.30486  ,   3.757215 ,  -3.754105 ],\n",
       "       [-10.165127 , -10.30425  ,   3.757286 ,  -3.7539496],\n",
       "       [-10.165593 , -10.304971 ,   3.7571702,  -3.754099 ],\n",
       "       [-10.165223 , -10.304297 ,   3.7573097,  -3.7540793],\n",
       "       [-10.164504 , -10.303448 ,   3.7574267,  -3.7538307],\n",
       "       [-10.16566  , -10.305036 ,   3.7571726,  -3.7541163],\n",
       "       [-10.165277 , -10.304494 ,   3.757259 ,  -3.7540708]],\n",
       "      dtype=float32)"
      ]
     },
     "execution_count": 16,
     "metadata": {},
     "output_type": "execute_result"
    }
   ],
   "source": [
    "predictions.predictions"
   ]
  },
  {
   "cell_type": "code",
   "execution_count": 17,
   "metadata": {},
   "outputs": [
    {
     "data": {
      "text/plain": [
       "array([2, 2, 2, 2, 2, 3, 3, 2, 2, 3, 2, 2, 2, 2, 2, 2, 3, 2, 2, 2, 2, 3,\n",
       "       2, 3, 3, 2, 2, 3, 2, 2, 2, 3, 2, 2, 2, 2, 2, 3, 3, 2, 3, 2, 3, 2,\n",
       "       3, 2, 2, 3, 3, 3, 2, 2, 2, 2, 2, 2, 2, 2, 2, 2, 2, 2, 2, 2, 2, 2,\n",
       "       2, 2, 3, 3, 3, 2, 2, 2, 3, 2, 2, 2, 2, 3, 2, 2, 2, 2, 2, 2, 2, 2,\n",
       "       2, 2, 2, 2, 2, 3, 2, 2, 2, 2, 2, 2])"
      ]
     },
     "execution_count": 17,
     "metadata": {},
     "output_type": "execute_result"
    }
   ],
   "source": [
    "predictions.label_ids.argmax(-1)    "
   ]
  },
  {
   "cell_type": "code",
   "execution_count": 18,
   "metadata": {},
   "outputs": [
    {
     "data": {
      "text/plain": [
       "array([2, 2, 2, 2, 2, 3, 3, 2, 2, 3, 2, 2, 2, 2, 2, 2, 3, 2, 2, 2, 2, 3,\n",
       "       2, 3, 3, 2, 2, 3, 2, 2, 2, 3, 2, 2, 2, 2, 2, 3, 3, 2, 3, 2, 3, 2,\n",
       "       3, 2, 2, 3, 3, 3, 2, 2, 2, 2, 2, 2, 2, 2, 2, 2, 2, 2, 2, 2, 2, 2,\n",
       "       2, 2, 3, 3, 3, 2, 2, 2, 3, 2, 2, 2, 2, 3, 2, 2, 2, 2, 2, 2, 2, 2,\n",
       "       2, 2, 2, 2, 2, 3, 2, 2, 2, 2, 2, 2])"
      ]
     },
     "execution_count": 18,
     "metadata": {},
     "output_type": "execute_result"
    }
   ],
   "source": [
    "predictions.label_ids.argmax(-1)"
   ]
  },
  {
   "cell_type": "code",
   "execution_count": 20,
   "metadata": {},
   "outputs": [
    {
     "data": {
      "image/png": "[encoded data removed]",
      "text/plain": [
       "<Figure size 640x480 with 2 Axes>"
      ]
     },
     "metadata": {},
     "output_type": "display_data"
    }
   ],
   "source": [
    "# sns confusion matrix\n",
    "import seaborn as sns\n",
    "import matplotlib.pyplot as plt\n",
    "from sklearn.metrics import confusion_matrix\n",
    "import numpy as np\n",
    "\n",
    "cm = confusion_matrix(predictions.label_ids.argmax(-1), predictions.predictions.argmax(-1))\n",
    "\n",
    "class_labels = ['NTA', 'YTA', 'ESH', 'NAH']\n",
    "\n",
    "# cm = cm.astype('float') / cm.sum(axis=1)[:, np.newaxis]\n",
    "sns.heatmap(cm, annot=True, cmap='Blues', xticklabels=class_labels, yticklabels=class_labels)\n",
    "plt.xlabel('Predicted')\n",
    "plt.ylabel('True')\n",
    "plt.show()"
   ]
  }
 ],
 "metadata": {
  "kernelspec": {
   "display_name": "mlops",
   "language": "python",
   "name": "python3"
  },
  "language_info": {
   "codemirror_mode": {
    "name": "ipython",
    "version": 3
   },
   "file_extension": ".py",
   "mimetype": "text/x-python",
   "name": "python",
   "nbconvert_exporter": "python",
   "pygments_lexer": "ipython3",
   "version": "3.10.13"
  }
 },
 "nbformat": 4,
 "nbformat_minor": 2
}
