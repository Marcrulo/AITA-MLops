{
 "cells": [
  {
   "cell_type": "code",
   "execution_count": 1,
   "metadata": {},
   "outputs": [
    {
     "name": "stderr",
     "output_type": "stream",
     "text": [
      "/home/mp/anaconda3/envs/mlops/lib/python3.10/site-packages/tqdm/auto.py:21: TqdmWarning: IProgress not found. Please update jupyter and ipywidgets. See https://ipywidgets.readthedocs.io/en/stable/user_install.html\n",
      "  from .autonotebook import tqdm as notebook_tqdm\n",
      "2023-12-08 14:08:20.960299: E tensorflow/compiler/xla/stream_executor/cuda/cuda_dnn.cc:9342] Unable to register cuDNN factory: Attempting to register factory for plugin cuDNN when one has already been registered\n",
      "2023-12-08 14:08:20.960328: E tensorflow/compiler/xla/stream_executor/cuda/cuda_fft.cc:609] Unable to register cuFFT factory: Attempting to register factory for plugin cuFFT when one has already been registered\n",
      "2023-12-08 14:08:20.961982: E tensorflow/compiler/xla/stream_executor/cuda/cuda_blas.cc:1518] Unable to register cuBLAS factory: Attempting to register factory for plugin cuBLAS when one has already been registered\n",
      "2023-12-08 14:08:21.134685: I tensorflow/core/platform/cpu_feature_guard.cc:182] This TensorFlow binary is optimized to use available CPU instructions in performance-critical operations.\n",
      "To enable the following instructions: AVX2 FMA, in other operations, rebuild TensorFlow with the appropriate compiler flags.\n",
      "2023-12-08 14:08:22.193688: W tensorflow/compiler/tf2tensorrt/utils/py_utils.cc:38] TF-TRT Warning: Could not find TensorRT\n"
     ]
    }
   ],
   "source": [
    "import transformers\n",
    "from datasets import Dataset\n",
    "import evaluate\n",
    "\n",
    "import pandas as pd\n",
    "import torch\n",
    "import logging\n",
    "import glob\n",
    "import os\n",
    "\n",
    "from sklearn.metrics import accuracy_score, precision_recall_fscore_support"
   ]
  },
  {
   "cell_type": "code",
   "execution_count": 2,
   "metadata": {},
   "outputs": [],
   "source": [
    "df = pd.read_csv('data/processed/AITA-Reddit-Dataset.csv')"
   ]
  },
  {
   "cell_type": "code",
   "execution_count": 4,
   "metadata": {},
   "outputs": [],
   "source": [
    "# get last created file\n",
    "checkpoint = glob.glob(os.path.join('results','*'))\n",
    "checkpoint.sort(key=os.path.getmtime)\n",
    "# chkpt = checkpoint[-1]\n",
    "\n",
    "chkpt = None"
   ]
  },
  {
   "cell_type": "code",
   "execution_count": 6,
   "metadata": {},
   "outputs": [
    {
     "name": "stderr",
     "output_type": "stream",
     "text": [
      "Some weights of BertForSequenceClassification were not initialized from the model checkpoint at bert-base-uncased and are newly initialized: ['classifier.bias', 'classifier.weight']\n",
      "You should probably TRAIN this model on a down-stream task to be able to use it for predictions and inference.\n"
     ]
    }
   ],
   "source": [
    "model_name = 'bert-base-uncased'\n",
    "\n",
    "if chkpt is not None:\n",
    "    model = transformers.BertForSequenceClassification.from_pretrained(chkpt, num_labels=4, problem_type='multi_label_classification').to('cuda')\n",
    "else:\n",
    "    model = transformers.BertForSequenceClassification.from_pretrained(model_name, num_labels=4, problem_type='multi_label_classification').to('cuda')\n",
    "\n",
    "tokenizer = transformers.BertTokenizer.from_pretrained(model_name, problem_type='multi_label_classification')"
   ]
  },
  {
   "cell_type": "code",
   "execution_count": 7,
   "metadata": {},
   "outputs": [],
   "source": [
    "classifier = transformers.pipeline('sentiment-analysis', model=model, tokenizer=tokenizer, device='cpu')"
   ]
  },
  {
   "cell_type": "code",
   "execution_count": 8,
   "metadata": {},
   "outputs": [
    {
     "name": "stderr",
     "output_type": "stream",
     "text": [
      "/home/mp/anaconda3/envs/mlops/lib/python3.10/site-packages/pyarrow/pandas_compat.py:373: FutureWarning: is_sparse is deprecated and will be removed in a future version. Check `isinstance(dtype, pd.SparseDtype)` instead.\n",
      "  if _pandas_api.is_sparse(col):\n",
      "                                                                      \r"
     ]
    }
   ],
   "source": [
    "# Create Dataset\n",
    "base_dataset = Dataset.from_pandas(df)\n",
    "\n",
    "# Vectorize labels\n",
    "cols = base_dataset.column_names\n",
    "base_dataset = base_dataset.map(lambda x: {'labels': [x[c] for c in cols if c != \"text\"]})"
   ]
  },
  {
   "cell_type": "code",
   "execution_count": 9,
   "metadata": {},
   "outputs": [
    {
     "name": "stderr",
     "output_type": "stream",
     "text": [
      "                                                                \r"
     ]
    }
   ],
   "source": [
    "# Tokenize the data\n",
    "def tokenize_function(examples):\n",
    "    return tokenizer(examples[\"text\"], padding=\"max_length\", truncation=True)\n",
    "\n",
    "# Tokenize the data (only keep relevant columns)\n",
    "cols = base_dataset.column_names\n",
    "cols.remove('labels')\n",
    "dataset = base_dataset.select(range(1000)).map(tokenize_function, batched=True, remove_columns=cols)"
   ]
  },
  {
   "cell_type": "code",
   "execution_count": 10,
   "metadata": {},
   "outputs": [],
   "source": [
    "# Create a dataset class with LABEL and TEXT columns\n",
    "dataset = dataset.train_test_split(test_size=0.2)\n",
    "validation_test_dataset = dataset['test'].train_test_split(test_size=0.5)\n",
    "dataset['validation'] = validation_test_dataset['train']\n",
    "dataset['test'] = validation_test_dataset['test']\n"
   ]
  },
  {
   "cell_type": "code",
   "execution_count": 11,
   "metadata": {},
   "outputs": [
    {
     "name": "stderr",
     "output_type": "stream",
     "text": [
      "Downloading builder script: 100%|██████████| 6.77k/6.77k [00:00<00:00, 18.4MB/s]\n"
     ]
    }
   ],
   "source": [
    "# Model evaluation\n",
    "f1 = evaluate.load('f1')\n",
    "\n",
    "# logging.basicConfig(level=logging.INFO, filename='example.log')\n",
    "\n",
    "def compute_metrics(eval_pred):\n",
    "    predictions, labels = eval_pred\n",
    "    predictions = np.argmax(predictions, axis=1)\n",
    "    return f1.compute(predictions=predictions, references=labels)"
   ]
  },
  {
   "cell_type": "code",
   "execution_count": 12,
   "metadata": {},
   "outputs": [
    {
     "name": "stderr",
     "output_type": "stream",
     "text": [
      " 13%|█▎        | 101/800 [00:09<01:01, 11.46it/s]"
     ]
    },
    {
     "name": "stdout",
     "output_type": "stream",
     "text": [
      "{'loss': 0.5467, 'learning_rate': 1e-05, 'epoch': 0.12}\n"
     ]
    },
    {
     "name": "stderr",
     "output_type": "stream",
     "text": [
      " 25%|██▌       | 201/800 [00:17<00:52, 11.37it/s]"
     ]
    },
    {
     "name": "stdout",
     "output_type": "stream",
     "text": [
      "{'loss': 0.3148, 'learning_rate': 2e-05, 'epoch': 0.25}\n"
     ]
    },
    {
     "name": "stderr",
     "output_type": "stream",
     "text": [
      " 38%|███▊      | 301/800 [00:26<00:43, 11.55it/s]"
     ]
    },
    {
     "name": "stdout",
     "output_type": "stream",
     "text": [
      "{'loss': 0.3317, 'learning_rate': 3e-05, 'epoch': 0.38}\n"
     ]
    },
    {
     "name": "stderr",
     "output_type": "stream",
     "text": [
      " 50%|█████     | 401/800 [00:35<00:34, 11.56it/s]"
     ]
    },
    {
     "name": "stdout",
     "output_type": "stream",
     "text": [
      "{'loss': 0.3555, 'learning_rate': 4e-05, 'epoch': 0.5}\n"
     ]
    },
    {
     "name": "stderr",
     "output_type": "stream",
     "text": [
      " 62%|██████▎   | 500/800 [00:43<00:26, 11.46it/s]"
     ]
    },
    {
     "name": "stdout",
     "output_type": "stream",
     "text": [
      "{'loss': 0.3311, 'learning_rate': 5e-05, 'epoch': 0.62}\n"
     ]
    },
    {
     "name": "stderr",
     "output_type": "stream",
     "text": [
      "                                                 \n",
      " 62%|██████▎   | 500/800 [00:45<00:26, 11.46it/s]"
     ]
    },
    {
     "name": "stdout",
     "output_type": "stream",
     "text": [
      "{'eval_loss': 0.47869673371315, 'eval_runtime': 2.0184, 'eval_samples_per_second': 49.545, 'eval_steps_per_second': 49.545, 'epoch': 0.62}\n"
     ]
    },
    {
     "name": "stderr",
     "output_type": "stream",
     "text": [
      " 75%|███████▌  | 601/800 [00:56<00:17, 11.50it/s]"
     ]
    },
    {
     "name": "stdout",
     "output_type": "stream",
     "text": [
      "{'loss': 0.3365, 'learning_rate': 3.3333333333333335e-05, 'epoch': 0.75}\n"
     ]
    },
    {
     "name": "stderr",
     "output_type": "stream",
     "text": [
      " 88%|████████▊ | 701/800 [01:04<00:08, 11.47it/s]"
     ]
    },
    {
     "name": "stdout",
     "output_type": "stream",
     "text": [
      "{'loss': 0.3058, 'learning_rate': 1.6666666666666667e-05, 'epoch': 0.88}\n"
     ]
    },
    {
     "name": "stderr",
     "output_type": "stream",
     "text": [
      "100%|██████████| 800/800 [01:13<00:00, 10.90it/s]"
     ]
    },
    {
     "name": "stdout",
     "output_type": "stream",
     "text": [
      "{'loss': 0.3134, 'learning_rate': 0.0, 'epoch': 1.0}\n",
      "{'train_runtime': 73.3836, 'train_samples_per_second': 10.902, 'train_steps_per_second': 10.902, 'train_loss': 0.35443567752838134, 'epoch': 1.0}\n"
     ]
    },
    {
     "name": "stderr",
     "output_type": "stream",
     "text": [
      "\n"
     ]
    },
    {
     "data": {
      "text/plain": [
       "TrainOutput(global_step=800, training_loss=0.35443567752838134, metrics={'train_runtime': 73.3836, 'train_samples_per_second': 10.902, 'train_steps_per_second': 10.902, 'train_loss': 0.35443567752838134, 'epoch': 1.0})"
      ]
     },
     "execution_count": 12,
     "metadata": {},
     "output_type": "execute_result"
    }
   ],
   "source": [
    "# finetune the model\n",
    "training_args = transformers.TrainingArguments(\n",
    "    output_dir='./results',          # output directory\n",
    "    num_train_epochs=1,              # total number of training epochs\n",
    "    per_device_train_batch_size=1,   # batch size per device during training\n",
    "    per_device_eval_batch_size=1,    # batch size for evaluation\n",
    "    warmup_steps=500,                # number of warmup steps for learning rate scheduler\n",
    "    weight_decay=0.01,               # strength of weight decay\n",
    "    logging_dir='./logs',            # directory for storing logs\n",
    "    logging_steps=100,\n",
    "    evaluation_strategy='steps',\n",
    "    eval_steps=500,\n",
    "    save_steps=500,\n",
    ")\n",
    "trainer = transformers.Trainer(\n",
    "    model=model,\n",
    "    args=training_args,\n",
    "    train_dataset=dataset['train'],\n",
    "    eval_dataset=dataset['validation'],\n",
    ")\n",
    "trainer.train()\n",
    "    "
   ]
  },
  {
   "cell_type": "code",
   "execution_count": 13,
   "metadata": {},
   "outputs": [
    {
     "name": "stderr",
     "output_type": "stream",
     "text": [
      "  0%|          | 0/100 [00:00<?, ?it/s]"
     ]
    },
    {
     "name": "stderr",
     "output_type": "stream",
     "text": [
      "100%|██████████| 100/100 [00:02<00:00, 49.23it/s]\n"
     ]
    }
   ],
   "source": [
    "predictions = trainer.predict(dataset['test'])"
   ]
  },
  {
   "cell_type": "code",
   "execution_count": 14,
   "metadata": {},
   "outputs": [
    {
     "data": {
      "text/plain": [
       "array([[-7.002139 , -7.083475 ,  3.8731327, -3.949504 ],\n",
       "       [-7.006008 , -7.07641  ,  3.7907   , -3.837818 ],\n",
       "       [-7.0121355, -7.080845 ,  3.795226 , -3.84762  ],\n",
       "       [-6.994981 , -7.067391 ,  3.7289288, -3.7750533],\n",
       "       [-7.0061736, -7.0898833,  3.8661487, -3.9357936],\n",
       "       [-7.0073843, -7.0737653,  3.7847054, -3.8342621],\n",
       "       [-7.006998 , -7.0679708,  3.7751987, -3.8277297],\n",
       "       [-7.0180507, -7.087995 ,  3.758873 , -3.8084047],\n",
       "       [-7.0070076, -7.070346 ,  3.7931278, -3.8386497],\n",
       "       [-7.009458 , -7.071921 ,  3.7497194, -3.8039021],\n",
       "       [-7.025654 , -7.108991 ,  3.8677208, -3.9422407],\n",
       "       [-7.0161324, -7.117451 ,  3.8623035, -3.932753 ],\n",
       "       [-7.0213394, -7.090322 ,  3.7920759, -3.8395913],\n",
       "       [-7.056844 , -7.141958 ,  3.805708 , -3.8776271],\n",
       "       [-6.9952927, -7.061849 ,  3.768708 , -3.832042 ],\n",
       "       [-7.0003357, -7.063867 ,  3.7795594, -3.8376496],\n",
       "       [-7.0196705, -7.092177 ,  3.7968957, -3.8462658],\n",
       "       [-7.011591 , -7.076856 ,  3.786762 , -3.8360193],\n",
       "       [-7.015264 , -7.0856156,  3.7926695, -3.848093 ],\n",
       "       [-7.0169697, -7.0854135,  3.796312 , -3.8416378],\n",
       "       [-7.010807 , -7.077284 ,  3.7854087, -3.8355892],\n",
       "       [-7.006172 , -7.0644917,  3.7528164, -3.7982032],\n",
       "       [-6.998577 , -7.0534644,  3.7583933, -3.807667 ],\n",
       "       [-6.944252 , -7.005063 ,  3.830914 , -3.8933246],\n",
       "       [-7.0199194, -7.0849524,  3.7913656, -3.8348415],\n",
       "       [-6.9872274, -7.028813 ,  3.7276368, -3.7772987],\n",
       "       [-7.0050545, -7.05794  ,  3.7693148, -3.820292 ],\n",
       "       [-7.018632 , -7.064303 ,  3.7444358, -3.80583  ],\n",
       "       [-7.0113015, -7.080918 ,  3.7919972, -3.842028 ],\n",
       "       [-7.008056 , -7.07264  ,  3.7842295, -3.830765 ],\n",
       "       [-7.0149813, -7.071135 ,  3.7591546, -3.8065343],\n",
       "       [-6.999875 , -7.0759172,  3.8456745, -3.9341161],\n",
       "       [-7.0094004, -7.0559916,  3.7311513, -3.772628 ],\n",
       "       [-7.0035763, -7.0718565,  3.7653131, -3.8249867],\n",
       "       [-7.008813 , -7.036835 ,  3.7491477, -3.794697 ],\n",
       "       [-7.0118866, -7.0871572,  3.7935605, -3.838075 ],\n",
       "       [-7.011131 , -7.0849886,  3.8730152, -3.948817 ],\n",
       "       [-6.978486 , -7.032064 ,  3.7551537, -3.798228 ],\n",
       "       [-7.0246067, -7.0946617,  3.8050404, -3.8569157],\n",
       "       [-7.016258 , -7.0789742,  3.778903 , -3.8305695],\n",
       "       [-7.0028467, -7.063512 ,  3.782339 , -3.830877 ],\n",
       "       [-7.0119233, -7.0868926,  3.786425 , -3.8434312],\n",
       "       [-7.0100236, -7.0751534,  3.790546 , -3.8379967],\n",
       "       [-7.011076 , -7.0745015,  3.78854  , -3.8310971],\n",
       "       [-6.9971185, -7.058145 ,  3.778128 , -3.8321373],\n",
       "       [-7.011201 , -7.074918 ,  3.7468781, -3.793969 ],\n",
       "       [-7.022209 , -7.093356 ,  3.7985342, -3.8486173],\n",
       "       [-6.9999695, -7.0653977,  3.7736366, -3.8306546],\n",
       "       [-6.9929085, -7.047555 ,  3.7541256, -3.796336 ],\n",
       "       [-7.0086927, -7.0758433,  3.785038 , -3.8393939],\n",
       "       [-7.0154705, -7.0806413,  3.7954297, -3.8440216],\n",
       "       [-7.021664 , -7.0886927,  3.7945259, -3.8387825],\n",
       "       [-6.997137 , -7.0622897,  3.7632902, -3.810531 ],\n",
       "       [-7.016525 , -7.083445 ,  3.7854552, -3.839133 ],\n",
       "       [-7.0314803, -7.115374 ,  3.8555849, -3.921109 ],\n",
       "       [-7.002452 , -7.050824 ,  3.7465715, -3.7903516],\n",
       "       [-7.006131 , -7.0644097,  3.761965 , -3.8119743],\n",
       "       [-7.0017023, -7.0589023,  3.7714572, -3.8091314],\n",
       "       [-6.999992 , -7.0580716,  3.7742426, -3.8234212],\n",
       "       [-7.017291 , -7.086172 ,  3.7949183, -3.8463025],\n",
       "       [-7.013566 , -7.0698957,  3.7589161, -3.801158 ],\n",
       "       [-7.0070696, -7.0645576,  3.7698872, -3.8134177],\n",
       "       [-6.9877925, -7.04608  ,  3.742839 , -3.7944324],\n",
       "       [-7.0296297, -7.073995 ,  3.7372205, -3.7906344],\n",
       "       [-6.992442 , -7.0595803,  3.8812714, -3.9471345],\n",
       "       [-7.010338 , -7.069217 ,  3.7798254, -3.8263133],\n",
       "       [-7.016615 , -7.0854306,  3.7969172, -3.846575 ],\n",
       "       [-7.0116224, -7.0842605,  3.7826736, -3.8370354],\n",
       "       [-6.9905334, -7.0493264,  3.7568247, -3.8131785],\n",
       "       [-7.005888 , -7.0695066,  3.7783675, -3.834168 ],\n",
       "       [-7.0024157, -7.0734315,  3.7947817, -3.8428516],\n",
       "       [-7.0162563, -7.0861   ,  3.8008778, -3.8479674],\n",
       "       [-7.0127974, -7.0752115,  3.7833269, -3.838051 ],\n",
       "       [-7.0198417, -7.0738997,  3.7706273, -3.8221602],\n",
       "       [-6.9876184, -7.034006 ,  3.8786862, -3.9407983],\n",
       "       [-7.0093327, -7.0715632,  3.7802446, -3.8359175],\n",
       "       [-7.0006676, -7.051951 ,  3.7473757, -3.7979898],\n",
       "       [-6.985887 , -7.0516615,  3.7601864, -3.8094013],\n",
       "       [-7.0043187, -7.058433 ,  3.761389 , -3.8099415],\n",
       "       [-7.0158806, -7.0870204,  3.7914293, -3.8448925],\n",
       "       [-7.0014725, -7.0536413,  3.746191 , -3.7964528],\n",
       "       [-7.0139337, -7.08689  ,  3.7999427, -3.8533134],\n",
       "       [-7.00298  , -7.069075 ,  3.789916 , -3.8381813],\n",
       "       [-6.999912 , -7.058456 ,  3.7670588, -3.8159244],\n",
       "       [-6.9963865, -7.058473 ,  3.7509556, -3.79832  ],\n",
       "       [-7.005271 , -7.0588098,  3.7596238, -3.8058145],\n",
       "       [-7.0273438, -7.095521 ,  3.8013146, -3.8551066],\n",
       "       [-7.0216036, -7.109446 ,  3.8731523, -3.9488914],\n",
       "       [-7.007465 , -7.0573773,  3.7592013, -3.8139617],\n",
       "       [-7.0193715, -7.0853143,  3.7879004, -3.8462596],\n",
       "       [-7.000978 , -7.0658736,  3.7419155, -3.7889364],\n",
       "       [-6.981254 , -7.060656 ,  3.875046 , -3.943671 ],\n",
       "       [-6.9980526, -7.0819917,  3.87904  , -3.9513614],\n",
       "       [-7.019945 , -7.0899663,  3.7974768, -3.8485997],\n",
       "       [-7.009431 , -7.072565 ,  3.7984424, -3.8434103],\n",
       "       [-6.9908085, -7.033533 ,  3.8652542, -3.9280767],\n",
       "       [-7.016575 , -7.0759616,  3.8013394, -3.8509548],\n",
       "       [-7.009262 , -7.0744815,  3.7773187, -3.8245   ],\n",
       "       [-7.0097446, -7.082457 ,  3.7689257, -3.8041449],\n",
       "       [-7.021041 , -7.083383 ,  3.7997391, -3.850445 ]], dtype=float32)"
      ]
     },
     "execution_count": 14,
     "metadata": {},
     "output_type": "execute_result"
    }
   ],
   "source": [
    "predictions.predictions"
   ]
  },
  {
   "cell_type": "code",
   "execution_count": 21,
   "metadata": {},
   "outputs": [
    {
     "data": {
      "text/plain": [
       "array([2, 2, 3, 2, 2, 3, 2, 2, 2, 2, 2, 3, 2, 3, 2, 2, 2, 2, 2, 2, 2, 3,\n",
       "       2, 3, 2, 3, 2, 3, 2, 3, 2, 2, 2, 2, 3, 2, 2, 3, 2, 2, 2, 2, 2, 2,\n",
       "       2, 2, 2, 2, 2, 2, 2, 2, 3, 2, 2, 2, 2, 2, 2, 2, 2, 2, 2, 2, 2, 2,\n",
       "       2, 2, 2, 2, 2, 3, 2, 2, 2, 2, 3, 2, 2, 2, 3, 2, 2, 2, 2, 3, 2, 2,\n",
       "       2, 2, 2, 2, 2, 2, 2, 3, 3, 2, 2, 3])"
      ]
     },
     "execution_count": 21,
     "metadata": {},
     "output_type": "execute_result"
    }
   ],
   "source": [
    "predictions.label_ids.argmax(-1)    "
   ]
  },
  {
   "cell_type": "code",
   "execution_count": 28,
   "metadata": {},
   "outputs": [
    {
     "data": {
      "text/plain": [
       "array([2, 2, 3, 2, 2, 3, 2, 2, 2, 2, 2, 3, 2, 3, 2, 2, 2, 2, 2, 2, 2, 3,\n",
       "       2, 3, 2, 3, 2, 3, 2, 3, 2, 2, 2, 2, 3, 2, 2, 3, 2, 2, 2, 2, 2, 2,\n",
       "       2, 2, 2, 2, 2, 2, 2, 2, 3, 2, 2, 2, 2, 2, 2, 2, 2, 2, 2, 2, 2, 2,\n",
       "       2, 2, 2, 2, 2, 3, 2, 2, 2, 2, 3, 2, 2, 2, 3, 2, 2, 2, 2, 3, 2, 2,\n",
       "       2, 2, 2, 2, 2, 2, 2, 3, 3, 2, 2, 3])"
      ]
     },
     "execution_count": 28,
     "metadata": {},
     "output_type": "execute_result"
    }
   ],
   "source": [
    "predictions.label_ids.argmax(-1)"
   ]
  },
  {
   "cell_type": "code",
   "execution_count": 30,
   "metadata": {},
   "outputs": [
    {
     "data": {
      "text/plain": [
       "array([[81,  0],\n",
       "       [19,  0]])"
      ]
     },
     "execution_count": 30,
     "metadata": {},
     "output_type": "execute_result"
    }
   ],
   "source": [
    "cm"
   ]
  },
  {
   "cell_type": "code",
   "execution_count": 29,
   "metadata": {},
   "outputs": [
    {
     "data": {
      "image/png": "[encoded data removed]",
      "text/plain": [
       "<Figure size 640x480 with 2 Axes>"
      ]
     },
     "metadata": {},
     "output_type": "display_data"
    }
   ],
   "source": [
    "# sns confusion matrix\n",
    "import seaborn as sns\n",
    "import matplotlib.pyplot as plt\n",
    "from sklearn.metrics import confusion_matrix\n",
    "import numpy as np\n",
    "\n",
    "cm = confusion_matrix(predictions.label_ids.argmax(-1), predictions.predictions.argmax(-1))\n",
    "\n",
    "class_labels = ['NTA', 'YTA', 'ESH', 'NAH']\n",
    "\n",
    "# cm = cm.astype('float') / cm.sum(axis=1)[:, np.newaxis]\n",
    "sns.heatmap(cm, annot=True, cmap='Blues', xticklabels=class_labels, yticklabels=class_labels)\n",
    "plt.xlabel('Predicted')\n",
    "plt.ylabel('True')\n",
    "plt.show()"
   ]
  }
 ],
 "metadata": {
  "kernelspec": {
   "display_name": "mlops",
   "language": "python",
   "name": "python3"
  },
  "language_info": {
   "codemirror_mode": {
    "name": "ipython",
    "version": 3
   },
   "file_extension": ".py",
   "mimetype": "text/x-python",
   "name": "python",
   "nbconvert_exporter": "python",
   "pygments_lexer": "ipython3",
   "version": "3.10.13"
  }
 },
 "nbformat": 4,
 "nbformat_minor": 2
}
